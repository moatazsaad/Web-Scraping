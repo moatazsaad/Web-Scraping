{
  "nbformat": 4,
  "nbformat_minor": 0,
  "metadata": {
    "colab": {
      "provenance": []
    },
    "kernelspec": {
      "name": "python3",
      "display_name": "Python 3"
    },
    "language_info": {
      "name": "python"
    }
  },
  "cells": [
    {
      "cell_type": "code",
      "execution_count": null,
      "metadata": {
        "id": "MnUpTDanwOC4"
      },
      "outputs": [],
      "source": [
        "import requests\n",
        "from bs4 import BeautifulSoup\n",
        "import csv\n",
        "from lxml import etree\n"
      ]
    },
    {
      "cell_type": "code",
      "source": [],
      "metadata": {
        "id": "xgJBvxvHVpY6"
      },
      "execution_count": null,
      "outputs": []
    },
    {
      "cell_type": "code",
      "source": [
        "page_index = 0\n",
        "data = []\n",
        "while True:\n",
        "  print(page_index)\n",
        "  url = f'https://wuzzuf.net/search/jobs/?a=hpb&q=data%20science&start={page_index}'\n",
        "  request = requests.get(url)\n",
        "  soup = BeautifulSoup(request.text, 'html.parser') \n",
        "\n",
        "  all_jobs = soup.find_all('div', attrs={\n",
        "      'class': 'css-pkv5jc'\n",
        "  })\n",
        "\n",
        "  for job in all_jobs:\n",
        "    card = job.find('a', attrs={\n",
        "        'target': '_blank',\n",
        "        'class': 'css-o171kl'\n",
        "    })\n",
        "    link = 'https://wuzzuf.net/'+ card.get('href')\n",
        "    title = card.get_text()\n",
        "    location = job.find('span', attrs={\n",
        "        'class': 'css-5wys0k'\n",
        "    }).get_text()\n",
        "\n",
        "    company_name = job.find('a', attrs={\n",
        "        'class': 'css-17s97q8'\n",
        "    }).get_text()\n",
        "\n",
        "    job_type = job.find('a', attrs={\n",
        "    'class': 'css-n2jc4m'\n",
        "    }).get_text().split(';}')[-1]\n",
        "\n",
        "    description = job.find('div', attrs={\n",
        "      'class': 'css-y4udm8'\n",
        "    }).get_text().split(';}')[-1]\n",
        "\n",
        "\n",
        "\n",
        "    if not(job_type in description):\n",
        "      description = job_type + ' ' + description\n",
        "    else:\n",
        "      description = job_type + ' ' + description[len(job_type):]\n",
        "\n",
        "\n",
        "\n",
        "    post_time = job.find('div', attrs={\n",
        "        'class': ['css-do6t5g','css-4c4ojb'] \n",
        "    }).get_text()\n",
        "\n",
        "    data.append([link, title, location, company_name, description, post_time])\n",
        "\n",
        "\n",
        "  jobs_pages_info = soup.find('li', attrs={\n",
        "                                              'class': 'css-8neukt'\n",
        "                                          }).get_text()  \n",
        "\n",
        "  number_of_all_jobs = int(jobs_pages_info.split('of')[-1])       \n",
        "\n",
        "  number_of_current_jobs = int(jobs_pages_info.split('of')[0].split('-')[-1])\n",
        "\n",
        "  if number_of_current_jobs == number_of_all_jobs:\n",
        "    break\n",
        "\n",
        "  page_index += 1\n"
      ],
      "metadata": {
        "colab": {
          "base_uri": "https://localhost:8080/"
        },
        "id": "2bZZbehQUrzn",
        "outputId": "ce3fea06-2117-4585-c519-21744f37d208"
      },
      "execution_count": null,
      "outputs": [
        {
          "output_type": "stream",
          "name": "stdout",
          "text": [
            "0\n",
            "1\n",
            "2\n",
            "3\n",
            "4\n",
            "5\n",
            "6\n",
            "7\n",
            "8\n",
            "9\n",
            "10\n",
            "11\n",
            "12\n",
            "13\n",
            "14\n",
            "15\n",
            "16\n",
            "17\n",
            "18\n",
            "19\n",
            "20\n",
            "21\n",
            "22\n",
            "23\n",
            "24\n",
            "25\n",
            "26\n",
            "27\n",
            "28\n",
            "29\n",
            "30\n",
            "31\n"
          ]
        }
      ]
    },
    {
      "cell_type": "code",
      "source": [
        "len(data)"
      ],
      "metadata": {
        "colab": {
          "base_uri": "https://localhost:8080/"
        },
        "id": "JETlRacEXetE",
        "outputId": "bf9edcf8-2dce-4a69-f472-091336c54349"
      },
      "execution_count": null,
      "outputs": [
        {
          "output_type": "execute_result",
          "data": {
            "text/plain": [
              "472"
            ]
          },
          "metadata": {},
          "execution_count": 73
        }
      ]
    },
    {
      "cell_type": "code",
      "source": [
        "len(data[0])"
      ],
      "metadata": {
        "colab": {
          "base_uri": "https://localhost:8080/"
        },
        "id": "0mMIvjvWXjPS",
        "outputId": "726306ed-b7d0-4534-b0cd-19e21d35dca3"
      },
      "execution_count": null,
      "outputs": [
        {
          "output_type": "execute_result",
          "data": {
            "text/plain": [
              "6"
            ]
          },
          "metadata": {},
          "execution_count": 74
        }
      ]
    },
    {
      "cell_type": "code",
      "source": [],
      "metadata": {
        "id": "UAi6USXmYNuY"
      },
      "execution_count": null,
      "outputs": []
    },
    {
      "cell_type": "code",
      "source": [
        "with open(\"jobs.csv\", 'w') as fid:\n",
        "  writer = csv.writer(fid)\n",
        "  header = ['link', 'title', 'location', 'company_name', 'description', 'post_time']\n",
        "  writer.writerow(header)\n",
        "  writer.writerows(data)"
      ],
      "metadata": {
        "id": "q_LzOVuEXG36"
      },
      "execution_count": null,
      "outputs": []
    },
    {
      "cell_type": "code",
      "source": [
        "for style in soup.find_all('style'):\n",
        "  style.extract()"
      ],
      "metadata": {
        "id": "lnCfYUd8TtER"
      },
      "execution_count": null,
      "outputs": []
    }
  ]
}